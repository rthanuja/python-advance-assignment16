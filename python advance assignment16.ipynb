{
 "cells": [
  {
   "cell_type": "code",
   "execution_count": null,
   "id": "ec9bed57",
   "metadata": {},
   "outputs": [],
   "source": [
    "#Q1. What is the benefit of regular expressions?\n",
    "\n",
    "1.Regular expressions can help you quickly and accurately find and extract key information from large amounts of text.\n",
    "2.Regular expressions can be used across development languages.This means that similar syntax is used across \n",
    "  development languages reducing the time taken in the developmental process.\n",
    "3.A single regular expression takes less time to test and debug and is easier to manage and maintain."
   ]
  },
  {
   "cell_type": "code",
   "execution_count": null,
   "id": "1fb83eb8",
   "metadata": {},
   "outputs": [],
   "source": [
    "#Q2. Describe the difference between the effects of '(ab)c+' and 'a(bc)+.' Which of these, if any, is the\n",
    "#unqualified pattern 'abc+''\n",
    "\n",
    "'(ab)c+' matches text starting with 'ab' and followed by c 1 or more no.of times.'ab' is a group\n",
    "'a(bc)+.' matches text starting with 'a' followed by 'bc' 1 or more no of times and '.' matches any character after that.\n",
    "        here 'bc' is a group.\n",
    "\n",
    "'abc+' searches for text starting with 'ab' but here it is not grouped and followed by c 1 or more no.of times.\n",
    "so,'(ab)c+' pattern is same as 'abc+' and 'a(bc)+.' is unqualified pattern of 'abc+'\n"
   ]
  },
  {
   "cell_type": "code",
   "execution_count": null,
   "id": "83467066",
   "metadata": {},
   "outputs": [],
   "source": [
    "#Q3. How much do you need to use the following sentence while using regular expressions?\n",
    "#import re\n",
    "\n",
    "import re should be used always while using regex expressions."
   ]
  },
  {
   "cell_type": "code",
   "execution_count": null,
   "id": "99b0ed69",
   "metadata": {},
   "outputs": [],
   "source": [
    "#Q4. Which characters have special significance in square brackets when expressing a range, and\n",
    "#under what circumstances?\n",
    "\n",
    "-(hyphen) specifies range when used between 2 characters in square brackets.If it not,then it has no special significance\n",
    "and it will search for hyphen literally in the target string.\n",
    "eg: \n",
    "    [a-z] matches any characater from a to z\n",
    "^(caret) at the beginning of the square brackets matches any single character that is not in characters mentioned after.If\n",
    "is not at the beginning then it has no specific significance.\n",
    "eg:\n",
    "    [^a-z]  matches any characater apart from any character in a to z"
   ]
  },
  {
   "cell_type": "code",
   "execution_count": null,
   "id": "12e6c00c",
   "metadata": {},
   "outputs": [],
   "source": [
    "#Q5. How does compiling a regular-expression object benefit you?\n",
    "\n",
    "We can compile a regular expression into a regex object to look for occurrences of the same pattern inside\n",
    "various target strings without rewriting it."
   ]
  },
  {
   "cell_type": "code",
   "execution_count": null,
   "id": "de6ad1a2",
   "metadata": {},
   "outputs": [],
   "source": [
    "#Q6. What are some examples of how to use the match object returned by re.match and re.search?\n",
    "\n",
    "The match method checks for a match only at the beginning of the string while search checks for a match anywhere in the string.\n"
   ]
  },
  {
   "cell_type": "code",
   "execution_count": 1,
   "id": "e7919a48",
   "metadata": {},
   "outputs": [
    {
     "name": "stdout",
     "output_type": "stream",
     "text": [
      "data\n",
      "data\n",
      "data\n",
      "<re.Match object; span=(19, 23), match='data'>\n",
      "None\n",
      "<re.Match object; span=(0, 4), match='data'>\n",
      "<re.Match object; span=(0, 4), match='data'>\n"
     ]
    }
   ],
   "source": [
    "import re\n",
    "d=\"this is full stack data science course\"\n",
    "f=\"data science course\"\n",
    "s=re.search('data',d)\n",
    "if s!=None:\n",
    "    print(s.group(0))\n",
    "m=re.match('data',d)\n",
    "if m!=None:\n",
    "    print(m.group(0))\n",
    "s1=re.search('data',f)\n",
    "if s1!=None:\n",
    "    print(s1.group(0))\n",
    "m1=re.match('data',f)\n",
    "if m1!=None:\n",
    "    print(m1.group(0))\n",
    "print(s,m,s1,m1,sep=\"\\n\")\n"
   ]
  },
  {
   "cell_type": "code",
   "execution_count": null,
   "id": "546e1505",
   "metadata": {},
   "outputs": [],
   "source": [
    "#Q7. What is the difference between using a vertical bar (|) as an alteration and using square brackets\n",
    "#as a character set?\n",
    "\n",
    "[set of characters] matches any single character in set of characters.whereas using a vertical bar, \n",
    "we can match atmost one of the specified <regex> expression from the given set of alternatives of regex expressions\n",
    "<regex1>|<regex2>|<regex3>.It returns the first match it finds.\n",
    "In square brackets,there is no special significance for ?,*,.,()   \n"
   ]
  },
  {
   "cell_type": "code",
   "execution_count": null,
   "id": "6911ea48",
   "metadata": {},
   "outputs": [],
   "source": [
    "#Q8. In regular-expression search patterns, why is it necessary to use the raw-string indicator (r)? In  \n",
    "#replacement strings?\n",
    "\n",
    "Raw string indicator has to be used because we don't want the python interpreter to interpret the string before the\n",
    "regex.Raw string treats the backslashes as literal characters."
   ]
  }
 ],
 "metadata": {
  "kernelspec": {
   "display_name": "Python 3 (ipykernel)",
   "language": "python",
   "name": "python3"
  },
  "language_info": {
   "codemirror_mode": {
    "name": "ipython",
    "version": 3
   },
   "file_extension": ".py",
   "mimetype": "text/x-python",
   "name": "python",
   "nbconvert_exporter": "python",
   "pygments_lexer": "ipython3",
   "version": "3.10.9"
  }
 },
 "nbformat": 4,
 "nbformat_minor": 5
}
